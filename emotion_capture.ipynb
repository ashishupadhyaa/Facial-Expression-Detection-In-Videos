{
  "nbformat": 4,
  "nbformat_minor": 0,
  "metadata": {
    "accelerator": "GPU",
    "colab": {
      "name": "emotion_capture.ipynb",
      "provenance": [],
      "collapsed_sections": []
    },
    "kernelspec": {
      "display_name": "Python 3",
      "name": "python3"
    },
    "language_info": {
      "name": "python"
    }
  },
  "cells": [
    {
      "cell_type": "code",
      "metadata": {
        "colab": {
          "base_uri": "https://localhost:8080/"
        },
        "id": "llkcUJWVhHC0",
        "outputId": "2d0fe908-3dcc-4541-aa8b-014ad7be8450"
      },
      "source": [
        "from google.colab import drive\n",
        "drive.mount('/content/drive/')"
      ],
      "execution_count": null,
      "outputs": [
        {
          "output_type": "stream",
          "text": [
            "Mounted at /content/drive/\n"
          ],
          "name": "stdout"
        }
      ]
    },
    {
      "cell_type": "code",
      "metadata": {
        "colab": {
          "base_uri": "https://localhost:8080/"
        },
        "id": "OrQbEV5shdwO",
        "outputId": "ff381e71-fdec-4021-caac-3e813fdfef97"
      },
      "source": [
        "!unzip /content/drive/MyDrive/emotion_data.zip"
      ],
      "execution_count": null,
      "outputs": [
        {
          "output_type": "stream",
          "text": [
            "Archive:  /content/drive/MyDrive/emotion_data.zip\n",
            "   creating: emotion_data/\n",
            "  inflating: emotion_data/icml_face_data.csv  \n",
            "  inflating: emotion_data/test.csv   \n"
          ],
          "name": "stdout"
        }
      ]
    },
    {
      "cell_type": "code",
      "metadata": {
        "id": "nOVr0-fOhtyc"
      },
      "source": [
        "import pandas as pd\n",
        "import cv2\n",
        "import os\n",
        "import tensorflow as tf\n",
        "import numpy as np\n",
        "\n",
        "from keras.layers import Input, Conv2D, BatchNormalization, MaxPooling2D, Dropout, Flatten, Dense\n",
        "from keras.models import Model\n",
        "import matplotlib.pyplot as plt"
      ],
      "execution_count": null,
      "outputs": []
    },
    {
      "cell_type": "code",
      "metadata": {
        "colab": {
          "base_uri": "https://localhost:8080/",
          "height": 204
        },
        "id": "2esuRYjSh4sQ",
        "outputId": "873f9b19-6701-40c2-fa6f-3d764206dcff"
      },
      "source": [
        "df = pd.read_csv('emotion_data/icml_face_data.csv')\n",
        "df.head()"
      ],
      "execution_count": null,
      "outputs": [
        {
          "output_type": "execute_result",
          "data": {
            "text/html": [
              "<div>\n",
              "<style scoped>\n",
              "    .dataframe tbody tr th:only-of-type {\n",
              "        vertical-align: middle;\n",
              "    }\n",
              "\n",
              "    .dataframe tbody tr th {\n",
              "        vertical-align: top;\n",
              "    }\n",
              "\n",
              "    .dataframe thead th {\n",
              "        text-align: right;\n",
              "    }\n",
              "</style>\n",
              "<table border=\"1\" class=\"dataframe\">\n",
              "  <thead>\n",
              "    <tr style=\"text-align: right;\">\n",
              "      <th></th>\n",
              "      <th>emotion</th>\n",
              "      <th>Usage</th>\n",
              "      <th>pixels</th>\n",
              "    </tr>\n",
              "  </thead>\n",
              "  <tbody>\n",
              "    <tr>\n",
              "      <th>0</th>\n",
              "      <td>0</td>\n",
              "      <td>Training</td>\n",
              "      <td>70 80 82 72 58 58 60 63 54 58 60 48 89 115 121...</td>\n",
              "    </tr>\n",
              "    <tr>\n",
              "      <th>1</th>\n",
              "      <td>0</td>\n",
              "      <td>Training</td>\n",
              "      <td>151 150 147 155 148 133 111 140 170 174 182 15...</td>\n",
              "    </tr>\n",
              "    <tr>\n",
              "      <th>2</th>\n",
              "      <td>2</td>\n",
              "      <td>Training</td>\n",
              "      <td>231 212 156 164 174 138 161 173 182 200 106 38...</td>\n",
              "    </tr>\n",
              "    <tr>\n",
              "      <th>3</th>\n",
              "      <td>4</td>\n",
              "      <td>Training</td>\n",
              "      <td>24 32 36 30 32 23 19 20 30 41 21 22 32 34 21 1...</td>\n",
              "    </tr>\n",
              "    <tr>\n",
              "      <th>4</th>\n",
              "      <td>6</td>\n",
              "      <td>Training</td>\n",
              "      <td>4 0 0 0 0 0 0 0 0 0 0 0 3 15 23 28 48 50 58 84...</td>\n",
              "    </tr>\n",
              "  </tbody>\n",
              "</table>\n",
              "</div>"
            ],
            "text/plain": [
              "   emotion     Usage                                             pixels\n",
              "0        0  Training  70 80 82 72 58 58 60 63 54 58 60 48 89 115 121...\n",
              "1        0  Training  151 150 147 155 148 133 111 140 170 174 182 15...\n",
              "2        2  Training  231 212 156 164 174 138 161 173 182 200 106 38...\n",
              "3        4  Training  24 32 36 30 32 23 19 20 30 41 21 22 32 34 21 1...\n",
              "4        6  Training  4 0 0 0 0 0 0 0 0 0 0 0 3 15 23 28 48 50 58 84..."
            ]
          },
          "metadata": {
            "tags": []
          },
          "execution_count": 4
        }
      ]
    },
    {
      "cell_type": "code",
      "metadata": {
        "id": "ejtLdIFZiDTG"
      },
      "source": [
        "df.columns = ['emotion', 'usage', 'pixels']"
      ],
      "execution_count": null,
      "outputs": []
    },
    {
      "cell_type": "code",
      "metadata": {
        "colab": {
          "base_uri": "https://localhost:8080/"
        },
        "id": "5mQv43hZidO8",
        "outputId": "7638ffcb-fc36-41de-bfdf-e0359e04ecd4"
      },
      "source": [
        "df['usage'].value_counts()"
      ],
      "execution_count": null,
      "outputs": [
        {
          "output_type": "execute_result",
          "data": {
            "text/plain": [
              "Training       28709\n",
              "PrivateTest     3589\n",
              "PublicTest      3589\n",
              "Name: usage, dtype: int64"
            ]
          },
          "metadata": {
            "tags": []
          },
          "execution_count": 6
        }
      ]
    },
    {
      "cell_type": "code",
      "metadata": {
        "colab": {
          "base_uri": "https://localhost:8080/"
        },
        "id": "EgvCKsPbiiQS",
        "outputId": "ebfe8c12-4720-40b7-dc3b-e9b8146610da"
      },
      "source": [
        "# ['Angry', 'Disgust', 'Fear', 'Happy', 'Sad', 'Surprise', 'Neutral']\n",
        "df['emotion'].value_counts()"
      ],
      "execution_count": null,
      "outputs": [
        {
          "output_type": "execute_result",
          "data": {
            "text/plain": [
              "3    8989\n",
              "6    6198\n",
              "4    6077\n",
              "2    5121\n",
              "0    4953\n",
              "5    4002\n",
              "1     547\n",
              "Name: emotion, dtype: int64"
            ]
          },
          "metadata": {
            "tags": []
          },
          "execution_count": 7
        }
      ]
    },
    {
      "cell_type": "code",
      "metadata": {
        "colab": {
          "base_uri": "https://localhost:8080/",
          "height": 284
        },
        "id": "s0yZbxAuGaCN",
        "outputId": "b640fde3-fc05-4b1e-f35c-f5d4243f65ee"
      },
      "source": [
        "plt.imshow(np.repeat(np.array(list(map(int, df['pixels'][0].split()))).reshape(48, 48, 1), 3, axis=-1))"
      ],
      "execution_count": null,
      "outputs": [
        {
          "output_type": "execute_result",
          "data": {
            "text/plain": [
              "<matplotlib.image.AxesImage at 0x7fece4bee4d0>"
            ]
          },
          "metadata": {
            "tags": []
          },
          "execution_count": 8
        },
        {
          "output_type": "display_data",
          "data": {
            "image/png": "[encoded data removed]",
            "text/plain": [
              "<Figure size 432x288 with 1 Axes>"
            ]
          },
          "metadata": {
            "tags": [],
            "needs_background": "light"
          }
        }
      ]
    },
    {
      "cell_type": "code",
      "metadata": {
        "id": "yVNuVVLZ8hRw"
      },
      "source": [
        "def split_data(df):\n",
        "  train_df = df[df['usage'] == 'Training']\n",
        "  val_df = df[df['usage'] == 'PublicTest']\n",
        "  test_df = df[df['usage'] == 'PrivateTest']\n",
        "\n",
        "  return train_df, val_df, test_df"
      ],
      "execution_count": null,
      "outputs": []
    },
    {
      "cell_type": "code",
      "metadata": {
        "id": "NewNjYtkIjgs"
      },
      "source": [
        "train_df, val_df, test_df = split_data(df)"
      ],
      "execution_count": null,
      "outputs": []
    },
    {
      "cell_type": "code",
      "metadata": {
        "id": "vJpj5_n3JLMc"
      },
      "source": [
        "BATCH_SIZE = 64"
      ],
      "execution_count": null,
      "outputs": []
    },
    {
      "cell_type": "code",
      "metadata": {
        "id": "fDz086OiK8k-"
      },
      "source": [
        "def data_process(df):\n",
        "  df['pixels'] = df['pixels'].apply(lambda x: list(map(int, x.split())))\n",
        "  df['pixels'] = df['pixels'].apply(lambda x: np.array(x).reshape(48, 48, 1))\n",
        "\n",
        "  return df"
      ],
      "execution_count": null,
      "outputs": []
    },
    {
      "cell_type": "code",
      "metadata": {
        "id": "jsTtQhKfLK-j"
      },
      "source": [
        "train_df = data_process(train_df)\n",
        "val_df = data_process(val_df)\n",
        "test_df = data_process(test_df)"
      ],
      "execution_count": null,
      "outputs": []
    },
    {
      "cell_type": "code",
      "metadata": {
        "colab": {
          "base_uri": "https://localhost:8080/",
          "height": 204
        },
        "id": "xN1e1qOKJwFy",
        "outputId": "9d5aabe6-a0eb-474d-8cde-5e4129b2d116"
      },
      "source": [
        "train_df.head()"
      ],
      "execution_count": null,
      "outputs": [
        {
          "output_type": "execute_result",
          "data": {
            "text/html": [
              "<div>\n",
              "<style scoped>\n",
              "    .dataframe tbody tr th:only-of-type {\n",
              "        vertical-align: middle;\n",
              "    }\n",
              "\n",
              "    .dataframe tbody tr th {\n",
              "        vertical-align: top;\n",
              "    }\n",
              "\n",
              "    .dataframe thead th {\n",
              "        text-align: right;\n",
              "    }\n",
              "</style>\n",
              "<table border=\"1\" class=\"dataframe\">\n",
              "  <thead>\n",
              "    <tr style=\"text-align: right;\">\n",
              "      <th></th>\n",
              "      <th>emotion</th>\n",
              "      <th>usage</th>\n",
              "      <th>pixels</th>\n",
              "    </tr>\n",
              "  </thead>\n",
              "  <tbody>\n",
              "    <tr>\n",
              "      <th>0</th>\n",
              "      <td>0</td>\n",
              "      <td>Training</td>\n",
              "      <td>[[[70], [80], [82], [72], [58], [58], [60], [6...</td>\n",
              "    </tr>\n",
              "    <tr>\n",
              "      <th>1</th>\n",
              "      <td>0</td>\n",
              "      <td>Training</td>\n",
              "      <td>[[[151], [150], [147], [155], [148], [133], [1...</td>\n",
              "    </tr>\n",
              "    <tr>\n",
              "      <th>2</th>\n",
              "      <td>2</td>\n",
              "      <td>Training</td>\n",
              "      <td>[[[231], [212], [156], [164], [174], [138], [1...</td>\n",
              "    </tr>\n",
              "    <tr>\n",
              "      <th>3</th>\n",
              "      <td>4</td>\n",
              "      <td>Training</td>\n",
              "      <td>[[[24], [32], [36], [30], [32], [23], [19], [2...</td>\n",
              "    </tr>\n",
              "    <tr>\n",
              "      <th>4</th>\n",
              "      <td>6</td>\n",
              "      <td>Training</td>\n",
              "      <td>[[[4], [0], [0], [0], [0], [0], [0], [0], [0],...</td>\n",
              "    </tr>\n",
              "  </tbody>\n",
              "</table>\n",
              "</div>"
            ],
            "text/plain": [
              "   emotion     usage                                             pixels\n",
              "0        0  Training  [[[70], [80], [82], [72], [58], [58], [60], [6...\n",
              "1        0  Training  [[[151], [150], [147], [155], [148], [133], [1...\n",
              "2        2  Training  [[[231], [212], [156], [164], [174], [138], [1...\n",
              "3        4  Training  [[[24], [32], [36], [30], [32], [23], [19], [2...\n",
              "4        6  Training  [[[4], [0], [0], [0], [0], [0], [0], [0], [0],..."
            ]
          },
          "metadata": {
            "tags": []
          },
          "execution_count": 14
        }
      ]
    },
    {
      "cell_type": "code",
      "metadata": {
        "id": "jMOwU586IsdH"
      },
      "source": [
        "def get_data_gen(df):\n",
        "  x = np.zeros((BATCH_SIZE, 48, 48, 1))\n",
        "  y = np.zeros((BATCH_SIZE, 7))\n",
        "\n",
        "  while True:\n",
        "    df_random = df.sample(n=BATCH_SIZE)\n",
        "    for i, idx in zip(range(BATCH_SIZE), df_random.index.tolist()):\n",
        "      x[i, :, :, :] = df_random['pixels'][idx]/255.0\n",
        "    y[:, :] = tf.keras.utils.to_categorical(df_random['emotion'], num_classes=7)\n",
        "\n",
        "    yield x, y"
      ],
      "execution_count": null,
      "outputs": []
    },
    {
      "cell_type": "code",
      "metadata": {
        "id": "WRMdfOrpKV90"
      },
      "source": [
        "train_gen = get_data_gen(train_df)\n",
        "val_gen = get_data_gen(val_df)\n",
        "test_gen = get_data_gen(test_df)"
      ],
      "execution_count": null,
      "outputs": []
    },
    {
      "cell_type": "code",
      "metadata": {
        "colab": {
          "base_uri": "https://localhost:8080/"
        },
        "id": "bK_HXEMaN0cS",
        "outputId": "214da3cf-f2c4-4db4-9721-0653acc00c97"
      },
      "source": [
        "x, y = next(train_gen)\n",
        "print('x shape: ', x.shape)\n",
        "print('y shape: ', y.shape)"
      ],
      "execution_count": null,
      "outputs": [
        {
          "output_type": "stream",
          "text": [
            "x shape:  (64, 48, 48, 1)\n",
            "y shape:  (64, 7)\n"
          ],
          "name": "stdout"
        }
      ]
    },
    {
      "cell_type": "code",
      "metadata": {
        "id": "IDjO9YBaLz6O"
      },
      "source": [
        "image_input = Input(shape=(48,48,1))\n",
        "\n",
        "x = Conv2D(64,(3,3), activation=\"relu\")(image_input)\n",
        "x = BatchNormalization()(x)\n",
        "x = MaxPooling2D((2,2))(x)\n",
        "x = Dropout(0.3)(x)\n",
        "\n",
        "x = Conv2D(128,(3,3),activation=\"relu\")(x)\n",
        "x = BatchNormalization()(x)\n",
        "x = MaxPooling2D((2,2))(x)\n",
        "x = Dropout(0.3)(x)\n",
        "\n",
        "x = Conv2D(512,(3,3),activation=\"relu\")(x)\n",
        "x = BatchNormalization()(x)\n",
        "x = MaxPooling2D((2,2))(x)\n",
        "x = Dropout(0.3)(x)\n",
        "\n",
        "x = Conv2D(512,(3,3),activation=\"relu\")(x)\n",
        "x = BatchNormalization()(x)\n",
        "x = MaxPooling2D((2,2))(x)\n",
        "x = Dropout(0.3)(x)\n",
        "\n",
        "x = Flatten()(x)\n",
        "\n",
        "x = Dense(256,activation=\"relu\")(x)\n",
        "x = BatchNormalization()(x)\n",
        "x = Dropout(0.5)(x)\n",
        "\n",
        "x = Dense(512,activation=\"relu\")(x)\n",
        "x = BatchNormalization()(x)\n",
        "x = Dropout(0.5)(x)\n",
        "\n",
        "image_output = Dense(7,activation=\"softmax\")(x)\n",
        "\n",
        "model = Model(image_input,image_output)"
      ],
      "execution_count": null,
      "outputs": []
    },
    {
      "cell_type": "code",
      "metadata": {
        "colab": {
          "base_uri": "https://localhost:8080/"
        },
        "id": "JV_PvNLW3b-1",
        "outputId": "ea0f2970-c772-487f-8fc8-7425328ff530"
      },
      "source": [
        "model.summary()"
      ],
      "execution_count": null,
      "outputs": [
        {
          "output_type": "stream",
          "text": [
            "Model: \"model\"\n",
            "_________________________________________________________________\n",
            "Layer (type)                 Output Shape              Param #   \n",
            "=================================================================\n",
            "input_1 (InputLayer)         [(None, 48, 48, 1)]       0         \n",
            "_________________________________________________________________\n",
            "conv2d (Conv2D)              (None, 46, 46, 64)        640       \n",
            "_________________________________________________________________\n",
            "batch_normalization (BatchNo (None, 46, 46, 64)        256       \n",
            "_________________________________________________________________\n",
            "max_pooling2d (MaxPooling2D) (None, 23, 23, 64)        0         \n",
            "_________________________________________________________________\n",
            "dropout (Dropout)            (None, 23, 23, 64)        0         \n",
            "_________________________________________________________________\n",
            "conv2d_1 (Conv2D)            (None, 21, 21, 128)       73856     \n",
            "_________________________________________________________________\n",
            "batch_normalization_1 (Batch (None, 21, 21, 128)       512       \n",
            "_________________________________________________________________\n",
            "max_pooling2d_1 (MaxPooling2 (None, 10, 10, 128)       0         \n",
            "_________________________________________________________________\n",
            "dropout_1 (Dropout)          (None, 10, 10, 128)       0         \n",
            "_________________________________________________________________\n",
            "conv2d_2 (Conv2D)            (None, 8, 8, 512)         590336    \n",
            "_________________________________________________________________\n",
            "batch_normalization_2 (Batch (None, 8, 8, 512)         2048      \n",
            "_________________________________________________________________\n",
            "max_pooling2d_2 (MaxPooling2 (None, 4, 4, 512)         0         \n",
            "_________________________________________________________________\n",
            "dropout_2 (Dropout)          (None, 4, 4, 512)         0         \n",
            "_________________________________________________________________\n",
            "conv2d_3 (Conv2D)            (None, 2, 2, 512)         2359808   \n",
            "_________________________________________________________________\n",
            "batch_normalization_3 (Batch (None, 2, 2, 512)         2048      \n",
            "_________________________________________________________________\n",
            "max_pooling2d_3 (MaxPooling2 (None, 1, 1, 512)         0         \n",
            "_________________________________________________________________\n",
            "dropout_3 (Dropout)          (None, 1, 1, 512)         0         \n",
            "_________________________________________________________________\n",
            "flatten (Flatten)            (None, 512)               0         \n",
            "_________________________________________________________________\n",
            "dense (Dense)                (None, 256)               131328    \n",
            "_________________________________________________________________\n",
            "batch_normalization_4 (Batch (None, 256)               1024      \n",
            "_________________________________________________________________\n",
            "dropout_4 (Dropout)          (None, 256)               0         \n",
            "_________________________________________________________________\n",
            "dense_1 (Dense)              (None, 512)               131584    \n",
            "_________________________________________________________________\n",
            "batch_normalization_5 (Batch (None, 512)               2048      \n",
            "_________________________________________________________________\n",
            "dropout_5 (Dropout)          (None, 512)               0         \n",
            "_________________________________________________________________\n",
            "dense_2 (Dense)              (None, 7)                 3591      \n",
            "=================================================================\n",
            "Total params: 3,299,079\n",
            "Trainable params: 3,295,111\n",
            "Non-trainable params: 3,968\n",
            "_________________________________________________________________\n"
          ],
          "name": "stdout"
        }
      ]
    },
    {
      "cell_type": "code",
      "metadata": {
        "id": "CHanCFs_8FCm"
      },
      "source": [
        "model.compile(optimizer='adam', loss='categorical_crossentropy', metrics=['accuracy'])"
      ],
      "execution_count": null,
      "outputs": []
    },
    {
      "cell_type": "code",
      "metadata": {
        "id": "EpMt6onG9rNa"
      },
      "source": [
        "from keras.callbacks import ReduceLROnPlateau, ModelCheckpoint"
      ],
      "execution_count": null,
      "outputs": []
    },
    {
      "cell_type": "code",
      "metadata": {
        "id": "LTkzjGrJ999G"
      },
      "source": [
        "reduce_lr = ReduceLROnPlateau(monitor='val_loss', factor=0.1, patience=5, min_lr=0.00001)\n",
        "checkpoint = ModelCheckpoint(\"model_expr.h5\", monitor='val_accuracy', save_weights_only=True, verbose=1)"
      ],
      "execution_count": null,
      "outputs": []
    },
    {
      "cell_type": "code",
      "metadata": {
        "colab": {
          "base_uri": "https://localhost:8080/"
        },
        "id": "aml4Fxyz-bp5",
        "outputId": "73516307-c0b6-4c3a-aafe-01df0b47f336"
      },
      "source": [
        "hist = model.fit(train_gen, epochs=100, validation_data=val_gen, steps_per_epoch=128,\n",
        "          validation_steps=64, callbacks=[checkpoint, reduce_lr])"
      ],
      "execution_count": null,
      "outputs": [
        {
          "output_type": "stream",
          "text": [
            "Epoch 1/100\n",
            "128/128 [==============================] - 55s 35ms/step - loss: 2.8451 - accuracy: 0.1842 - val_loss: 2.1581 - val_accuracy: 0.2520\n",
            "\n",
            "Epoch 00001: saving model to model_expr.h5\n",
            "Epoch 2/100\n",
            "128/128 [==============================] - 3s 27ms/step - loss: 2.2572 - accuracy: 0.2061 - val_loss: 2.4308 - val_accuracy: 0.1738\n",
            "\n",
            "Epoch 00002: saving model to model_expr.h5\n",
            "Epoch 3/100\n",
            "128/128 [==============================] - 3s 27ms/step - loss: 2.0244 - accuracy: 0.2412 - val_loss: 1.8270 - val_accuracy: 0.1985\n",
            "\n",
            "Epoch 00003: saving model to model_expr.h5\n",
            "Epoch 4/100\n",
            "128/128 [==============================] - 3s 27ms/step - loss: 1.8447 - accuracy: 0.2940 - val_loss: 2.0482 - val_accuracy: 0.2708\n",
            "\n",
            "Epoch 00004: saving model to model_expr.h5\n",
            "Epoch 5/100\n",
            "128/128 [==============================] - 3s 27ms/step - loss: 1.7045 - accuracy: 0.3427 - val_loss: 1.5754 - val_accuracy: 0.3757\n",
            "\n",
            "Epoch 00005: saving model to model_expr.h5\n",
            "Epoch 6/100\n",
            "128/128 [==============================] - 3s 27ms/step - loss: 1.6225 - accuracy: 0.3803 - val_loss: 1.5538 - val_accuracy: 0.3845\n",
            "\n",
            "Epoch 00006: saving model to model_expr.h5\n",
            "Epoch 7/100\n",
            "128/128 [==============================] - 3s 27ms/step - loss: 1.5638 - accuracy: 0.4110 - val_loss: 2.0525 - val_accuracy: 0.3469\n",
            "\n",
            "Epoch 00007: saving model to model_expr.h5\n",
            "Epoch 8/100\n",
            "128/128 [==============================] - 3s 27ms/step - loss: 1.4623 - accuracy: 0.4322 - val_loss: 1.3954 - val_accuracy: 0.4634\n",
            "\n",
            "Epoch 00008: saving model to model_expr.h5\n",
            "Epoch 9/100\n",
            "128/128 [==============================] - 3s 27ms/step - loss: 1.4203 - accuracy: 0.4510 - val_loss: 1.6074 - val_accuracy: 0.4373\n",
            "\n",
            "Epoch 00009: saving model to model_expr.h5\n",
            "Epoch 10/100\n",
            "128/128 [==============================] - 3s 27ms/step - loss: 1.3756 - accuracy: 0.4726 - val_loss: 1.4459 - val_accuracy: 0.4524\n",
            "\n",
            "Epoch 00010: saving model to model_expr.h5\n",
            "Epoch 11/100\n",
            "128/128 [==============================] - 3s 27ms/step - loss: 1.3663 - accuracy: 0.4855 - val_loss: 1.2874 - val_accuracy: 0.4907\n",
            "\n",
            "Epoch 00011: saving model to model_expr.h5\n",
            "Epoch 12/100\n",
            "128/128 [==============================] - 3s 27ms/step - loss: 1.3487 - accuracy: 0.4793 - val_loss: 1.3035 - val_accuracy: 0.5049\n",
            "\n",
            "Epoch 00012: saving model to model_expr.h5\n",
            "Epoch 13/100\n",
            "128/128 [==============================] - 4s 28ms/step - loss: 1.2956 - accuracy: 0.5045 - val_loss: 1.8368 - val_accuracy: 0.3838\n",
            "\n",
            "Epoch 00013: saving model to model_expr.h5\n",
            "Epoch 14/100\n",
            "128/128 [==============================] - 4s 28ms/step - loss: 1.2723 - accuracy: 0.5113 - val_loss: 1.3592 - val_accuracy: 0.4614\n",
            "\n",
            "Epoch 00014: saving model to model_expr.h5\n",
            "Epoch 15/100\n",
            "128/128 [==============================] - 3s 27ms/step - loss: 1.2862 - accuracy: 0.5039 - val_loss: 1.2620 - val_accuracy: 0.5278\n",
            "\n",
            "Epoch 00015: saving model to model_expr.h5\n",
            "Epoch 16/100\n",
            "128/128 [==============================] - 3s 27ms/step - loss: 1.2527 - accuracy: 0.5314 - val_loss: 1.2696 - val_accuracy: 0.5308\n",
            "\n",
            "Epoch 00016: saving model to model_expr.h5\n",
            "Epoch 17/100\n",
            "128/128 [==============================] - 4s 27ms/step - loss: 1.2458 - accuracy: 0.5299 - val_loss: 1.2930 - val_accuracy: 0.5371\n",
            "\n",
            "Epoch 00017: saving model to model_expr.h5\n",
            "Epoch 18/100\n",
            "128/128 [==============================] - 4s 28ms/step - loss: 1.2011 - accuracy: 0.5465 - val_loss: 1.3135 - val_accuracy: 0.4890\n",
            "\n",
            "Epoch 00018: saving model to model_expr.h5\n",
            "Epoch 19/100\n",
            "128/128 [==============================] - 4s 27ms/step - loss: 1.1877 - accuracy: 0.5491 - val_loss: 1.2013 - val_accuracy: 0.5520\n",
            "\n",
            "Epoch 00019: saving model to model_expr.h5\n",
            "Epoch 20/100\n",
            "128/128 [==============================] - 4s 28ms/step - loss: 1.1841 - accuracy: 0.5481 - val_loss: 1.2365 - val_accuracy: 0.5356\n",
            "\n",
            "Epoch 00020: saving model to model_expr.h5\n",
            "Epoch 21/100\n",
            "128/128 [==============================] - 4s 28ms/step - loss: 1.1602 - accuracy: 0.5601 - val_loss: 1.4400 - val_accuracy: 0.4856\n",
            "\n",
            "Epoch 00021: saving model to model_expr.h5\n",
            "Epoch 22/100\n",
            "128/128 [==============================] - 4s 28ms/step - loss: 1.1702 - accuracy: 0.5650 - val_loss: 1.2621 - val_accuracy: 0.5344\n",
            "\n",
            "Epoch 00022: saving model to model_expr.h5\n",
            "Epoch 23/100\n",
            "128/128 [==============================] - 4s 28ms/step - loss: 1.1416 - accuracy: 0.5706 - val_loss: 1.3569 - val_accuracy: 0.4741\n",
            "\n",
            "Epoch 00023: saving model to model_expr.h5\n",
            "Epoch 24/100\n",
            "128/128 [==============================] - 4s 28ms/step - loss: 1.1488 - accuracy: 0.5649 - val_loss: 1.4059 - val_accuracy: 0.4902\n",
            "\n",
            "Epoch 00024: saving model to model_expr.h5\n",
            "Epoch 25/100\n",
            "128/128 [==============================] - 4s 28ms/step - loss: 1.1234 - accuracy: 0.5810 - val_loss: 1.0990 - val_accuracy: 0.5718\n",
            "\n",
            "Epoch 00025: saving model to model_expr.h5\n",
            "Epoch 26/100\n",
            "128/128 [==============================] - 4s 28ms/step - loss: 1.0885 - accuracy: 0.5777 - val_loss: 1.1238 - val_accuracy: 0.5815\n",
            "\n",
            "Epoch 00026: saving model to model_expr.h5\n",
            "Epoch 27/100\n",
            "128/128 [==============================] - 3s 27ms/step - loss: 1.0694 - accuracy: 0.5981 - val_loss: 1.1158 - val_accuracy: 0.5779\n",
            "\n",
            "Epoch 00027: saving model to model_expr.h5\n",
            "Epoch 28/100\n",
            "128/128 [==============================] - 3s 27ms/step - loss: 1.0670 - accuracy: 0.6097 - val_loss: 1.0824 - val_accuracy: 0.5984\n",
            "\n",
            "Epoch 00028: saving model to model_expr.h5\n",
            "Epoch 29/100\n",
            "128/128 [==============================] - 4s 28ms/step - loss: 1.0798 - accuracy: 0.6054 - val_loss: 1.1085 - val_accuracy: 0.5806\n",
            "\n",
            "Epoch 00029: saving model to model_expr.h5\n",
            "Epoch 30/100\n",
            "128/128 [==============================] - 4s 27ms/step - loss: 1.0418 - accuracy: 0.6078 - val_loss: 1.0683 - val_accuracy: 0.5913\n",
            "\n",
            "Epoch 00030: saving model to model_expr.h5\n",
            "Epoch 31/100\n",
            "128/128 [==============================] - 4s 28ms/step - loss: 1.0284 - accuracy: 0.6118 - val_loss: 1.1086 - val_accuracy: 0.5879\n",
            "\n",
            "Epoch 00031: saving model to model_expr.h5\n",
            "Epoch 32/100\n",
            "128/128 [==============================] - 4s 27ms/step - loss: 0.9979 - accuracy: 0.6253 - val_loss: 1.0809 - val_accuracy: 0.5859\n",
            "\n",
            "Epoch 00032: saving model to model_expr.h5\n",
            "Epoch 33/100\n",
            "128/128 [==============================] - 4s 27ms/step - loss: 1.0123 - accuracy: 0.6209 - val_loss: 1.0694 - val_accuracy: 0.5898\n",
            "\n",
            "Epoch 00033: saving model to model_expr.h5\n",
            "Epoch 34/100\n",
            "128/128 [==============================] - 4s 28ms/step - loss: 1.0469 - accuracy: 0.6051 - val_loss: 1.0543 - val_accuracy: 0.5889\n",
            "\n",
            "Epoch 00034: saving model to model_expr.h5\n",
            "Epoch 35/100\n",
            "128/128 [==============================] - 4s 28ms/step - loss: 0.9920 - accuracy: 0.6356 - val_loss: 1.0984 - val_accuracy: 0.5845\n",
            "\n",
            "Epoch 00035: saving model to model_expr.h5\n",
            "Epoch 36/100\n",
            "128/128 [==============================] - 4s 28ms/step - loss: 0.9959 - accuracy: 0.6279 - val_loss: 1.0449 - val_accuracy: 0.5959\n",
            "\n",
            "Epoch 00036: saving model to model_expr.h5\n",
            "Epoch 37/100\n",
            "128/128 [==============================] - 4s 28ms/step - loss: 0.9886 - accuracy: 0.6286 - val_loss: 1.0585 - val_accuracy: 0.5901\n",
            "\n",
            "Epoch 00037: saving model to model_expr.h5\n",
            "Epoch 38/100\n",
            "128/128 [==============================] - 4s 28ms/step - loss: 0.9810 - accuracy: 0.6355 - val_loss: 1.0473 - val_accuracy: 0.5959\n",
            "\n",
            "Epoch 00038: saving model to model_expr.h5\n",
            "Epoch 39/100\n",
            "128/128 [==============================] - 4s 28ms/step - loss: 0.9416 - accuracy: 0.6443 - val_loss: 1.0934 - val_accuracy: 0.5923\n",
            "\n",
            "Epoch 00039: saving model to model_expr.h5\n",
            "Epoch 40/100\n",
            "128/128 [==============================] - 4s 28ms/step - loss: 0.9821 - accuracy: 0.6347 - val_loss: 1.0560 - val_accuracy: 0.6025\n",
            "\n",
            "Epoch 00040: saving model to model_expr.h5\n",
            "Epoch 41/100\n",
            "128/128 [==============================] - 3s 27ms/step - loss: 0.9631 - accuracy: 0.6458 - val_loss: 1.0432 - val_accuracy: 0.6096\n",
            "\n",
            "Epoch 00041: saving model to model_expr.h5\n",
            "Epoch 42/100\n",
            "128/128 [==============================] - 3s 27ms/step - loss: 0.9594 - accuracy: 0.6421 - val_loss: 1.0714 - val_accuracy: 0.5916\n",
            "\n",
            "Epoch 00042: saving model to model_expr.h5\n",
            "Epoch 43/100\n",
            "128/128 [==============================] - 4s 28ms/step - loss: 0.9561 - accuracy: 0.6400 - val_loss: 1.0518 - val_accuracy: 0.6008\n",
            "\n",
            "Epoch 00043: saving model to model_expr.h5\n",
            "Epoch 44/100\n",
            "128/128 [==============================] - 4s 28ms/step - loss: 0.9712 - accuracy: 0.6359 - val_loss: 1.0200 - val_accuracy: 0.6135\n",
            "\n",
            "Epoch 00044: saving model to model_expr.h5\n",
            "Epoch 45/100\n",
            "128/128 [==============================] - 4s 28ms/step - loss: 0.9447 - accuracy: 0.6557 - val_loss: 1.0303 - val_accuracy: 0.6030\n",
            "\n",
            "Epoch 00045: saving model to model_expr.h5\n",
            "Epoch 46/100\n",
            "128/128 [==============================] - 4s 28ms/step - loss: 0.9324 - accuracy: 0.6556 - val_loss: 1.0366 - val_accuracy: 0.6067\n",
            "\n",
            "Epoch 00046: saving model to model_expr.h5\n",
            "Epoch 47/100\n",
            "128/128 [==============================] - 4s 28ms/step - loss: 0.9331 - accuracy: 0.6551 - val_loss: 1.0654 - val_accuracy: 0.6018\n",
            "\n",
            "Epoch 00047: saving model to model_expr.h5\n",
            "Epoch 48/100\n",
            "128/128 [==============================] - 4s 28ms/step - loss: 0.9095 - accuracy: 0.6541 - val_loss: 1.0354 - val_accuracy: 0.6250\n",
            "\n",
            "Epoch 00048: saving model to model_expr.h5\n",
            "Epoch 49/100\n",
            "128/128 [==============================] - 4s 28ms/step - loss: 0.9352 - accuracy: 0.6554 - val_loss: 1.0258 - val_accuracy: 0.6216\n",
            "\n",
            "Epoch 00049: saving model to model_expr.h5\n",
            "Epoch 50/100\n",
            "128/128 [==============================] - 4s 28ms/step - loss: 0.8969 - accuracy: 0.6674 - val_loss: 1.0264 - val_accuracy: 0.6194\n",
            "\n",
            "Epoch 00050: saving model to model_expr.h5\n",
            "Epoch 51/100\n",
            "128/128 [==============================] - 4s 28ms/step - loss: 0.8993 - accuracy: 0.6654 - val_loss: 1.0301 - val_accuracy: 0.6130\n",
            "\n",
            "Epoch 00051: saving model to model_expr.h5\n",
            "Epoch 52/100\n",
            "128/128 [==============================] - 4s 28ms/step - loss: 0.8902 - accuracy: 0.6639 - val_loss: 1.0453 - val_accuracy: 0.6111\n",
            "\n",
            "Epoch 00052: saving model to model_expr.h5\n",
            "Epoch 53/100\n",
            "128/128 [==============================] - 4s 28ms/step - loss: 0.9149 - accuracy: 0.6603 - val_loss: 1.0188 - val_accuracy: 0.6216\n",
            "\n",
            "Epoch 00053: saving model to model_expr.h5\n",
            "Epoch 54/100\n",
            "128/128 [==============================] - 4s 28ms/step - loss: 0.9064 - accuracy: 0.6611 - val_loss: 1.0046 - val_accuracy: 0.6309\n",
            "\n",
            "Epoch 00054: saving model to model_expr.h5\n",
            "Epoch 55/100\n",
            "128/128 [==============================] - 4s 28ms/step - loss: 0.9002 - accuracy: 0.6662 - val_loss: 1.0697 - val_accuracy: 0.6042\n",
            "\n",
            "Epoch 00055: saving model to model_expr.h5\n",
            "Epoch 56/100\n",
            "128/128 [==============================] - 4s 28ms/step - loss: 0.9001 - accuracy: 0.6665 - val_loss: 1.0427 - val_accuracy: 0.6035\n",
            "\n",
            "Epoch 00056: saving model to model_expr.h5\n",
            "Epoch 57/100\n",
            "128/128 [==============================] - 4s 28ms/step - loss: 0.8852 - accuracy: 0.6749 - val_loss: 1.0301 - val_accuracy: 0.6182\n",
            "\n",
            "Epoch 00057: saving model to model_expr.h5\n",
            "Epoch 58/100\n",
            "128/128 [==============================] - 4s 28ms/step - loss: 0.8833 - accuracy: 0.6694 - val_loss: 1.0150 - val_accuracy: 0.6123\n",
            "\n",
            "Epoch 00058: saving model to model_expr.h5\n",
            "Epoch 59/100\n",
            "128/128 [==============================] - 4s 28ms/step - loss: 0.8861 - accuracy: 0.6753 - val_loss: 1.0598 - val_accuracy: 0.6099\n",
            "\n",
            "Epoch 00059: saving model to model_expr.h5\n",
            "Epoch 60/100\n",
            "128/128 [==============================] - 4s 28ms/step - loss: 0.8835 - accuracy: 0.6710 - val_loss: 1.0513 - val_accuracy: 0.6147\n",
            "\n",
            "Epoch 00060: saving model to model_expr.h5\n",
            "Epoch 61/100\n",
            "128/128 [==============================] - 4s 28ms/step - loss: 0.8848 - accuracy: 0.6736 - val_loss: 1.0317 - val_accuracy: 0.6226\n",
            "\n",
            "Epoch 00061: saving model to model_expr.h5\n",
            "Epoch 62/100\n",
            "128/128 [==============================] - 4s 28ms/step - loss: 0.9261 - accuracy: 0.6572 - val_loss: 1.0392 - val_accuracy: 0.6157\n",
            "\n",
            "Epoch 00062: saving model to model_expr.h5\n",
            "Epoch 63/100\n",
            "128/128 [==============================] - 4s 28ms/step - loss: 0.8719 - accuracy: 0.6765 - val_loss: 1.0311 - val_accuracy: 0.6150\n",
            "\n",
            "Epoch 00063: saving model to model_expr.h5\n",
            "Epoch 64/100\n",
            "128/128 [==============================] - 4s 28ms/step - loss: 0.8659 - accuracy: 0.6812 - val_loss: 1.0327 - val_accuracy: 0.6221\n",
            "\n",
            "Epoch 00064: saving model to model_expr.h5\n",
            "Epoch 65/100\n",
            "128/128 [==============================] - 4s 28ms/step - loss: 0.8909 - accuracy: 0.6681 - val_loss: 1.0079 - val_accuracy: 0.6238\n",
            "\n",
            "Epoch 00065: saving model to model_expr.h5\n",
            "Epoch 66/100\n",
            "128/128 [==============================] - 4s 28ms/step - loss: 0.9055 - accuracy: 0.6679 - val_loss: 1.0535 - val_accuracy: 0.6155\n",
            "\n",
            "Epoch 00066: saving model to model_expr.h5\n",
            "Epoch 67/100\n",
            "128/128 [==============================] - 4s 28ms/step - loss: 0.8974 - accuracy: 0.6675 - val_loss: 1.0352 - val_accuracy: 0.6245\n",
            "\n",
            "Epoch 00067: saving model to model_expr.h5\n",
            "Epoch 68/100\n",
            "128/128 [==============================] - 4s 28ms/step - loss: 0.8694 - accuracy: 0.6799 - val_loss: 1.0158 - val_accuracy: 0.6238\n",
            "\n",
            "Epoch 00068: saving model to model_expr.h5\n",
            "Epoch 69/100\n",
            "128/128 [==============================] - 4s 28ms/step - loss: 0.8685 - accuracy: 0.6742 - val_loss: 1.0206 - val_accuracy: 0.6248\n",
            "\n",
            "Epoch 00069: saving model to model_expr.h5\n",
            "Epoch 70/100\n",
            "128/128 [==============================] - 4s 28ms/step - loss: 0.8934 - accuracy: 0.6658 - val_loss: 1.0045 - val_accuracy: 0.6248\n",
            "\n",
            "Epoch 00070: saving model to model_expr.h5\n",
            "Epoch 71/100\n",
            "128/128 [==============================] - 4s 28ms/step - loss: 0.8634 - accuracy: 0.6812 - val_loss: 1.0128 - val_accuracy: 0.6282\n",
            "\n",
            "Epoch 00071: saving model to model_expr.h5\n",
            "Epoch 72/100\n",
            "128/128 [==============================] - 4s 28ms/step - loss: 0.8826 - accuracy: 0.6662 - val_loss: 1.0160 - val_accuracy: 0.6255\n",
            "\n",
            "Epoch 00072: saving model to model_expr.h5\n",
            "Epoch 73/100\n",
            "128/128 [==============================] - 4s 28ms/step - loss: 0.8747 - accuracy: 0.6764 - val_loss: 1.0180 - val_accuracy: 0.6282\n",
            "\n",
            "Epoch 00073: saving model to model_expr.h5\n",
            "Epoch 74/100\n",
            "128/128 [==============================] - 4s 28ms/step - loss: 0.8554 - accuracy: 0.6890 - val_loss: 1.0626 - val_accuracy: 0.6096\n",
            "\n",
            "Epoch 00074: saving model to model_expr.h5\n",
            "Epoch 75/100\n",
            "128/128 [==============================] - 4s 28ms/step - loss: 0.8946 - accuracy: 0.6628 - val_loss: 1.0247 - val_accuracy: 0.6157\n",
            "\n",
            "Epoch 00075: saving model to model_expr.h5\n",
            "Epoch 76/100\n",
            "128/128 [==============================] - 4s 28ms/step - loss: 0.8930 - accuracy: 0.6742 - val_loss: 1.0762 - val_accuracy: 0.6006\n",
            "\n",
            "Epoch 00076: saving model to model_expr.h5\n",
            "Epoch 77/100\n",
            "128/128 [==============================] - 4s 29ms/step - loss: 0.8886 - accuracy: 0.6702 - val_loss: 1.0525 - val_accuracy: 0.6123\n",
            "\n",
            "Epoch 00077: saving model to model_expr.h5\n",
            "Epoch 78/100\n",
            "128/128 [==============================] - 4s 29ms/step - loss: 0.8734 - accuracy: 0.6742 - val_loss: 1.0455 - val_accuracy: 0.6191\n",
            "\n",
            "Epoch 00078: saving model to model_expr.h5\n",
            "Epoch 79/100\n",
            "128/128 [==============================] - 4s 28ms/step - loss: 0.8936 - accuracy: 0.6643 - val_loss: 1.0473 - val_accuracy: 0.6104\n",
            "\n",
            "Epoch 00079: saving model to model_expr.h5\n",
            "Epoch 80/100\n",
            "128/128 [==============================] - 4s 29ms/step - loss: 0.8815 - accuracy: 0.6755 - val_loss: 1.0452 - val_accuracy: 0.6113\n",
            "\n",
            "Epoch 00080: saving model to model_expr.h5\n",
            "Epoch 81/100\n",
            "128/128 [==============================] - 4s 28ms/step - loss: 0.8976 - accuracy: 0.6698 - val_loss: 1.0412 - val_accuracy: 0.6179\n",
            "\n",
            "Epoch 00081: saving model to model_expr.h5\n",
            "Epoch 82/100\n",
            "128/128 [==============================] - 4s 28ms/step - loss: 0.8655 - accuracy: 0.6772 - val_loss: 1.0363 - val_accuracy: 0.6035\n",
            "\n",
            "Epoch 00082: saving model to model_expr.h5\n",
            "Epoch 83/100\n",
            "128/128 [==============================] - 4s 28ms/step - loss: 0.8411 - accuracy: 0.6875 - val_loss: 1.0201 - val_accuracy: 0.6213\n",
            "\n",
            "Epoch 00083: saving model to model_expr.h5\n",
            "Epoch 84/100\n",
            "128/128 [==============================] - 4s 28ms/step - loss: 0.8569 - accuracy: 0.6838 - val_loss: 1.0017 - val_accuracy: 0.6262\n",
            "\n",
            "Epoch 00084: saving model to model_expr.h5\n",
            "Epoch 85/100\n",
            "128/128 [==============================] - 4s 28ms/step - loss: 0.8295 - accuracy: 0.6925 - val_loss: 1.0444 - val_accuracy: 0.6082\n",
            "\n",
            "Epoch 00085: saving model to model_expr.h5\n",
            "Epoch 86/100\n",
            "128/128 [==============================] - 4s 29ms/step - loss: 0.8751 - accuracy: 0.6799 - val_loss: 1.0316 - val_accuracy: 0.6106\n",
            "\n",
            "Epoch 00086: saving model to model_expr.h5\n",
            "Epoch 87/100\n",
            "128/128 [==============================] - 4s 28ms/step - loss: 0.8681 - accuracy: 0.6863 - val_loss: 1.0562 - val_accuracy: 0.6062\n",
            "\n",
            "Epoch 00087: saving model to model_expr.h5\n",
            "Epoch 88/100\n",
            "128/128 [==============================] - 4s 28ms/step - loss: 0.8707 - accuracy: 0.6726 - val_loss: 1.0581 - val_accuracy: 0.6069\n",
            "\n",
            "Epoch 00088: saving model to model_expr.h5\n",
            "Epoch 89/100\n",
            "128/128 [==============================] - 4s 29ms/step - loss: 0.8946 - accuracy: 0.6728 - val_loss: 1.0096 - val_accuracy: 0.6204\n",
            "\n",
            "Epoch 00089: saving model to model_expr.h5\n",
            "Epoch 90/100\n",
            "128/128 [==============================] - 4s 28ms/step - loss: 0.8467 - accuracy: 0.6826 - val_loss: 1.0469 - val_accuracy: 0.6162\n",
            "\n",
            "Epoch 00090: saving model to model_expr.h5\n",
            "Epoch 91/100\n",
            "128/128 [==============================] - 4s 28ms/step - loss: 0.8573 - accuracy: 0.6832 - val_loss: 1.0510 - val_accuracy: 0.6062\n",
            "\n",
            "Epoch 00091: saving model to model_expr.h5\n",
            "Epoch 92/100\n",
            "128/128 [==============================] - 4s 28ms/step - loss: 0.8644 - accuracy: 0.6774 - val_loss: 1.0452 - val_accuracy: 0.6128\n",
            "\n",
            "Epoch 00092: saving model to model_expr.h5\n",
            "Epoch 93/100\n",
            "128/128 [==============================] - 4s 28ms/step - loss: 0.8778 - accuracy: 0.6741 - val_loss: 1.0513 - val_accuracy: 0.6150\n",
            "\n",
            "Epoch 00093: saving model to model_expr.h5\n",
            "Epoch 94/100\n",
            "128/128 [==============================] - 4s 28ms/step - loss: 0.8794 - accuracy: 0.6804 - val_loss: 1.0296 - val_accuracy: 0.6235\n",
            "\n",
            "Epoch 00094: saving model to model_expr.h5\n",
            "Epoch 95/100\n",
            "128/128 [==============================] - 4s 28ms/step - loss: 0.8683 - accuracy: 0.6840 - val_loss: 1.0250 - val_accuracy: 0.6223\n",
            "\n",
            "Epoch 00095: saving model to model_expr.h5\n",
            "Epoch 96/100\n",
            "128/128 [==============================] - 4s 28ms/step - loss: 0.8621 - accuracy: 0.6816 - val_loss: 1.0286 - val_accuracy: 0.6196\n",
            "\n",
            "Epoch 00096: saving model to model_expr.h5\n",
            "Epoch 97/100\n",
            "128/128 [==============================] - 4s 29ms/step - loss: 0.8525 - accuracy: 0.6853 - val_loss: 1.0231 - val_accuracy: 0.6213\n",
            "\n",
            "Epoch 00097: saving model to model_expr.h5\n",
            "Epoch 98/100\n",
            "128/128 [==============================] - 4s 28ms/step - loss: 0.8590 - accuracy: 0.6744 - val_loss: 1.0296 - val_accuracy: 0.6226\n",
            "\n",
            "Epoch 00098: saving model to model_expr.h5\n",
            "Epoch 99/100\n",
            "128/128 [==============================] - 4s 28ms/step - loss: 0.8657 - accuracy: 0.6779 - val_loss: 1.0587 - val_accuracy: 0.6082\n",
            "\n",
            "Epoch 00099: saving model to model_expr.h5\n",
            "Epoch 100/100\n",
            "128/128 [==============================] - 4s 28ms/step - loss: 0.8523 - accuracy: 0.6843 - val_loss: 1.0175 - val_accuracy: 0.6226\n",
            "\n",
            "Epoch 00100: saving model to model_expr.h5\n"
          ],
          "name": "stdout"
        }
      ]
    },
    {
      "cell_type": "code",
      "metadata": {
        "id": "F3AC9l8zMsEa"
      },
      "source": [
        "model_json = model.to_json()\n",
        "with open(\"model.json\", \"w\") as json_file:\n",
        "  json_file.write(model_json)"
      ],
      "execution_count": null,
      "outputs": []
    },
    {
      "cell_type": "code",
      "metadata": {
        "id": "fCp7ya2aUue1"
      },
      "source": [
        "model.save('model_e.h5')"
      ],
      "execution_count": null,
      "outputs": []
    }
  ]
}